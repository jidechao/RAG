{
 "cells": [
  {
   "cell_type": "code",
   "execution_count": 1,
   "metadata": {},
   "outputs": [
    {
     "name": "stderr",
     "output_type": "stream",
     "text": [
      "c:\\Apps\\miniconda3\\envs\\rag\\Lib\\site-packages\\sentence_transformers\\cross_encoder\\CrossEncoder.py:13: TqdmExperimentalWarning: Using `tqdm.autonotebook.tqdm` in notebook mode. Use `tqdm.tqdm` instead to force console mode (e.g. in jupyter console)\n",
      "  from tqdm.autonotebook import tqdm, trange\n"
     ]
    }
   ],
   "source": [
    "from langchain_community.embeddings import HuggingFaceBgeEmbeddings\n",
    "\n",
    "model_name = \"C:\\\\Home\\\\Documents\\\\Projects\\\\models\\\\BAAI\\\\bge-large-en-v1.5\"\n",
    "model_kwargs = {\"device\": \"cpu\"}\n",
    "encode_kwargs = {\"normalize_embeddings\": True}\n",
    "embedding_model = HuggingFaceBgeEmbeddings(\n",
    "    model_name=model_name, model_kwargs=model_kwargs, encode_kwargs=encode_kwargs\n",
    ")"
   ]
  },
  {
   "cell_type": "code",
   "execution_count": 2,
   "metadata": {},
   "outputs": [
    {
     "name": "stderr",
     "output_type": "stream",
     "text": [
      "USER_AGENT environment variable not set, consider setting it to identify your requests.\n"
     ]
    }
   ],
   "source": [
    "from langchain.text_splitter import RecursiveCharacterTextSplitter\n",
    "from langchain_community.document_loaders import WebBaseLoader\n",
    "\n",
    "# Docs to index\n",
    "urls = [\n",
    "    \"https://lilianweng.github.io/posts/2023-06-23-agent/\",\n",
    "    \"https://lilianweng.github.io/posts/2023-03-15-prompt-engineering/\",\n",
    "    \"https://lilianweng.github.io/posts/2023-10-25-adv-attack-llm/\",\n",
    "]\n",
    "\n",
    "# Load\n",
    "docs = [WebBaseLoader(url).load() for url in urls]\n",
    "docs_list = [item for sublist in docs for item in sublist]\n",
    "\n",
    "# Split\n",
    "text_splitter = RecursiveCharacterTextSplitter.from_tiktoken_encoder(\n",
    "    chunk_size=500, chunk_overlap=50\n",
    ")\n",
    "doc_splits = text_splitter.split_documents(docs_list)"
   ]
  },
  {
   "cell_type": "code",
   "execution_count": 3,
   "metadata": {},
   "outputs": [],
   "source": [
    "from langchain_qdrant import QdrantVectorStore\n",
    "from qdrant_client import QdrantClient\n",
    "from qdrant_client.http.models import Distance, VectorParams\n",
    "\n",
    "client = QdrantClient(host=\"localhost\", port=6333)\n",
    "\n",
    "client.create_collection(\n",
    "    collection_name=\"agentic_rag\",\n",
    "    vectors_config=VectorParams(size=1024, distance=Distance.COSINE),\n",
    ")\n",
    "\n",
    "vector_store = QdrantVectorStore(\n",
    "    client=client,\n",
    "    collection_name=\"agentic_rag\",\n",
    "    embedding=embedding_model,\n",
    ")"
   ]
  },
  {
   "cell_type": "code",
   "execution_count": 4,
   "metadata": {},
   "outputs": [
    {
     "data": {
      "text/plain": [
       "['41329066-a18b-41e0-aae1-76e8622d3957',\n",
       " '586bc104-5e47-4706-964d-22b3d0ee3316',\n",
       " '46f4b476-9f92-43e4-83d5-915c7b6bec63',\n",
       " '4cf86eb6-c87d-40e6-9560-03238c7ec01e',\n",
       " '9ce919f0-c5d1-4108-88dd-31595079eb82',\n",
       " '7fc63981-178a-4919-8b2b-f9638bd51570',\n",
       " 'ef926e20-96c3-4bde-979e-76198139b5b8',\n",
       " 'e4437604-9122-4685-8cbc-3a6e5f77a4e2',\n",
       " '3d0cd830-2cd5-4e23-ab38-9ae356e4b711',\n",
       " 'd042c66a-f7f3-4ed2-ab7a-73ad89a1bd7d',\n",
       " '32be5ebd-1a2f-4e9b-9d26-85e5cacaa1d6',\n",
       " '68ffcdd9-af9b-46e1-9c21-924640bbb145',\n",
       " 'c054a467-04c9-484a-bb0d-3c514685e936',\n",
       " '521e3e5a-4c26-4c1b-b9e5-d40ccd3747df',\n",
       " '9469e671-4736-42b1-a2ef-373bcd45cfef',\n",
       " '07210f44-7585-477a-b3ab-37cb41bf1939',\n",
       " '192179c7-4d0a-4c06-9d6b-7ec568e41a21',\n",
       " '21be78cf-4a4e-46f4-8b8a-26697c891a83',\n",
       " 'fd56b52b-0022-479f-909d-bb64f34e3fee',\n",
       " '66dbc72e-f27a-4e85-9329-31098f3fb632',\n",
       " '38387031-9798-44e0-a666-6e599efa9c8a',\n",
       " '5d4720d2-f6d3-48b6-94a1-392a35ab7642',\n",
       " 'a3ba0e49-1d20-4cf7-a66f-c569ccd2b375',\n",
       " 'd9140a06-ad51-4df8-8264-b629613e134f',\n",
       " '8ba8a79b-d70f-4f0e-8228-4edb23df199b',\n",
       " '565bf4ee-7e81-4ca5-9c21-551d341493eb',\n",
       " 'd385be0b-3eca-458e-a77b-6df27dc6b881',\n",
       " 'faef5c9f-40bc-4366-a31a-4e0d3c6a6a75',\n",
       " '7304a985-8ba6-48c5-a126-0020c4a31be5',\n",
       " 'd514f02c-c43b-4ece-9b54-a45e5101de2b',\n",
       " 'd495b854-e04e-4e46-b42c-6c6e8db4bfda',\n",
       " 'b39c3ffa-c972-4500-bb16-9d1b87c7d0b4',\n",
       " 'cd6ba7c0-b1ce-4322-8d03-3c9c24a02023',\n",
       " '02666d35-1a02-4ac9-87dc-41afde6cf065',\n",
       " '25a9a1e6-ecd5-4b00-b1e3-76e5334c160a',\n",
       " 'db092e81-eeee-492a-beee-265e1adc2691',\n",
       " '246c5301-3fbe-49eb-8552-4ea20ed7c385',\n",
       " '5966177f-2323-4f04-86f1-9ed0c38a4250',\n",
       " '7d3fbd42-0824-4036-82dd-d62ba9abdcc3',\n",
       " '91cfbb51-d5cd-422b-a09c-3892fbc2563b',\n",
       " 'ae4d220b-9bb7-4b9b-965b-88710c0caad3',\n",
       " 'a794ba63-6d58-4eea-9cb0-075461e4a9a9',\n",
       " 'dc58c6fb-abaf-4632-a7b7-96509b137c3d',\n",
       " '5c6711e9-e593-416a-92ab-6f0ebde14024',\n",
       " '3f02a5da-d8a6-40fa-86bd-61deb0f9c53a',\n",
       " 'a595e890-0137-4dcc-847f-b5ece7cc0e55',\n",
       " '0bc6db38-00cb-4a73-95e8-ddd7acf0423b',\n",
       " 'f0fcb53c-8a63-4edc-ad18-6a56eafdd01f',\n",
       " 'b53f0fb1-15e6-4af4-9f6c-b089a739af5d',\n",
       " '6fb02563-671c-4215-abee-1b6ef802caea',\n",
       " '65d4b4c8-9b41-4771-9a76-d406a55bb0ac',\n",
       " 'd8836511-c683-45a5-86c1-cc65cb75832a',\n",
       " 'e1731447-7a50-49af-bc65-594db2850796',\n",
       " '90f3b36b-1cc2-4a84-bed0-11dcb16586e5',\n",
       " '4323f764-2ff3-4be0-ab44-5d972625d80c',\n",
       " 'f677d6d1-d167-42a0-8dd0-b19be0d60b46',\n",
       " '9fc11359-3f60-41d4-a39f-c8b2b9cfe96f',\n",
       " '5eba23dc-8f69-4133-b34c-eef18f7015e3',\n",
       " '3d0f8369-59f5-475e-831e-bc2a73b405cc',\n",
       " 'e1025f23-7305-4642-8514-c4e8b7634930',\n",
       " 'a38cf3cd-ddc7-4b3a-9100-9493a6220015',\n",
       " '96355967-f73b-4c14-8568-568415df8c2f',\n",
       " '7abfd166-2549-42bb-bc87-127aeb1a000b',\n",
       " '7f35b002-ef78-494f-a83f-56baff96aea8',\n",
       " '3235d6a0-0233-4c84-b037-70ae256d5309',\n",
       " '95944699-2117-4cdb-8a2b-71c608640286',\n",
       " 'c731081e-49ea-4ad7-be3b-051aaf4b4f2d',\n",
       " '0649cfa9-4c2c-42e3-bf20-f34230886f6c',\n",
       " 'ef367846-f1ae-487d-ac52-02d93eddef4c',\n",
       " 'aa42002e-dd48-424f-bb61-70e43e5aad5b',\n",
       " 'f954e203-5a9c-41ea-b659-f5fbe4febabf',\n",
       " '5deb1a8d-a2ba-4f90-894e-edb9bea43ae1',\n",
       " '296226f2-59ad-4d7f-b0c5-3e2af8777b20',\n",
       " '36b3ce6c-2029-4d49-9d28-6cd1ff024dd4',\n",
       " 'fa067bff-d419-4cbc-b7af-39f860cc3c8d',\n",
       " 'c231e105-3f48-44ce-8ce8-ee7cc688c30f',\n",
       " 'd62b36ef-14d9-4470-bc5a-a7e5d50ba236',\n",
       " '3eea1371-06c6-4826-855d-6c3bbbe34441',\n",
       " '6f812892-d704-4772-9991-3ab24d39069c',\n",
       " '8857344a-8b0b-405b-b540-36c54610c01a',\n",
       " 'a205a540-a68b-4fb3-878a-5a0b338be026',\n",
       " 'c7c593b6-988c-4bd6-a0ce-36f1d417aea1',\n",
       " '6ba478c4-9696-4bf9-a8d3-107c2eefc862',\n",
       " 'b8fa93f2-c833-4e68-b542-ba03b635b6d2',\n",
       " '98c0097f-1d0f-424d-bcfd-cbc2c8c324f4',\n",
       " 'adfed6c4-773e-4de6-9b8c-b3ef6e8c9abd',\n",
       " 'b9b23d71-b7bd-4ac0-95a5-559151febc29',\n",
       " '022c0492-1bdb-4c10-aa41-50c3c3193718',\n",
       " 'c9bb1aa8-7728-4231-91bb-afdaef8bd470',\n",
       " 'cf0d6406-de86-44da-b8e0-346c440e26df',\n",
       " 'd6e4c349-169e-40d5-b521-b448a4211ac5']"
      ]
     },
     "execution_count": 4,
     "metadata": {},
     "output_type": "execute_result"
    }
   ],
   "source": [
    "from uuid import uuid4\n",
    "\n",
    "ids = [str(uuid4()) for _ in range(len(doc_splits))]\n",
    "vector_store.add_documents(documents=doc_splits, ids=ids)"
   ]
  },
  {
   "cell_type": "code",
   "execution_count": null,
   "metadata": {},
   "outputs": [],
   "source": []
  }
 ],
 "metadata": {
  "kernelspec": {
   "display_name": "rag",
   "language": "python",
   "name": "python3"
  },
  "language_info": {
   "codemirror_mode": {
    "name": "ipython",
    "version": 3
   },
   "file_extension": ".py",
   "mimetype": "text/x-python",
   "name": "python",
   "nbconvert_exporter": "python",
   "pygments_lexer": "ipython3",
   "version": "3.12.7"
  }
 },
 "nbformat": 4,
 "nbformat_minor": 2
}
