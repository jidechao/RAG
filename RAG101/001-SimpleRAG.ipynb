{
 "cells": [
  {
   "cell_type": "code",
   "execution_count": 1,
   "metadata": {},
   "outputs": [],
   "source": [
    "import os\n",
    "from dotenv import load_dotenv\n",
    "\n",
    "load_dotenv()\n",
    "\n",
    "OPENAI_API_BASE = os.environ.get(\"OPENAI_API_BASE\")\n",
    "OPENAI_API_KEY = os.environ.get(\"OPENAI_API_KEY\")"
   ]
  },
  {
   "cell_type": "code",
   "execution_count": 2,
   "metadata": {},
   "outputs": [],
   "source": [
    "pdf_path = \"../data/Understanding_Climate_Change.pdf\""
   ]
  },
  {
   "cell_type": "markdown",
   "metadata": {},
   "source": [
    "# 加载文档"
   ]
  },
  {
   "cell_type": "code",
   "execution_count": 3,
   "metadata": {},
   "outputs": [],
   "source": [
    "from langchain_community.document_loaders import PyMuPDFLoader\n",
    "\n",
    "loader = PyMuPDFLoader(\n",
    "    pdf_path,\n",
    "    mode=\"single\",\n",
    ")\n",
    "docs = loader.load()"
   ]
  },
  {
   "cell_type": "code",
   "execution_count": 4,
   "metadata": {},
   "outputs": [
    {
     "data": {
      "text/plain": [
       "92"
      ]
     },
     "execution_count": 4,
     "metadata": {},
     "output_type": "execute_result"
    }
   ],
   "source": [
    "from langchain_text_splitters import RecursiveCharacterTextSplitter\n",
    "\n",
    "text_splitter = RecursiveCharacterTextSplitter(\n",
    "    chunk_size=1000, chunk_overlap=200, length_function=len\n",
    ")\n",
    "\n",
    "texts = text_splitter.split_documents(docs)\n",
    "len(texts)"
   ]
  },
  {
   "cell_type": "code",
   "execution_count": 5,
   "metadata": {},
   "outputs": [],
   "source": [
    "for doc in texts:\n",
    "    doc.page_content = doc.page_content.replace(\"\\t\", \" \")"
   ]
  },
  {
   "cell_type": "markdown",
   "metadata": {},
   "source": [
    "# 嵌入文档"
   ]
  },
  {
   "cell_type": "code",
   "execution_count": 6,
   "metadata": {},
   "outputs": [],
   "source": [
    "from langchain_huggingface import HuggingFaceEmbeddings\n",
    "\n",
    "\n",
    "model_name = os.environ.get(\"EMBEDDING_MODEL\")\n",
    "model_kwargs = {\"device\": \"cpu\"}\n",
    "encode_kwargs = {\"normalize_embeddings\": True}\n",
    "embedding_model = HuggingFaceEmbeddings(\n",
    "    model_name=model_name, model_kwargs=model_kwargs, encode_kwargs=encode_kwargs\n",
    ")"
   ]
  },
  {
   "cell_type": "code",
   "execution_count": 7,
   "metadata": {},
   "outputs": [],
   "source": [
    "from langchain_qdrant import QdrantVectorStore\n",
    "from qdrant_client import QdrantClient\n",
    "from qdrant_client.http.models import Distance, VectorParams\n",
    "\n",
    "client = QdrantClient(host=\"localhost\", port=6333)\n",
    "\n",
    "client.create_collection(\n",
    "    collection_name=\"Understanding_Climate_Change\",\n",
    "    vectors_config=VectorParams(size=1024, distance=Distance.COSINE),\n",
    ")\n",
    "\n",
    "vector_store = QdrantVectorStore(\n",
    "    client=client,\n",
    "    collection_name=\"Understanding_Climate_Change\",\n",
    "    embedding=embedding_model,\n",
    ")"
   ]
  },
  {
   "cell_type": "code",
   "execution_count": 8,
   "metadata": {},
   "outputs": [
    {
     "data": {
      "text/plain": [
       "['f90aa586-ca59-4b8d-8709-752a3830bfaf',\n",
       " 'bac036a0-2610-4efe-8ed8-98126d79e4eb',\n",
       " 'a7335903-ebbf-426f-aaef-f0a1d4b59e4f',\n",
       " '1422cda2-a9d0-45bb-bdea-aadcceda7eb1',\n",
       " 'cbeed763-3884-45d9-a360-04be4cf5aebe',\n",
       " 'e39020d1-3074-44ac-96aa-09c79a2261fb',\n",
       " 'cbffc16f-735f-4043-9ec6-9f2a10c5f3ac',\n",
       " 'c6cb957c-9c7c-4978-874b-181e5669d829',\n",
       " '2afeadf9-f1a9-40cb-a8ef-ecf068cd7d51',\n",
       " 'c56c70c6-039f-4539-b39f-4273f18c1008',\n",
       " '004f5f6b-39b4-4751-9c58-d4c5fe5e37f9',\n",
       " '80c68b89-1470-4bcf-8ded-5442d291ce0c',\n",
       " 'f6081413-40fa-4fdb-b8df-444dcbf8040f',\n",
       " '859926ca-3aee-46bc-b508-03c50f3bec2c',\n",
       " '9e4fb1d2-ee3a-40d5-b804-f1a6da83cb21',\n",
       " 'eacf5259-5a8a-4728-baf0-7b10310febfa',\n",
       " '89b5e0ae-457a-4dff-a0b2-799f2bd42f1e',\n",
       " '504501c1-d2e1-4e5b-9876-2077d083755b',\n",
       " '88d2575a-dce2-419a-b4f0-cfeb7dd0b893',\n",
       " 'd4b3fbab-e50f-4388-bbe0-eb0a816a8b9f',\n",
       " '8908ef92-bb0f-4e00-b86c-180736e14d17',\n",
       " '6255e2b6-8bdd-4f3e-9a74-af86571c4589',\n",
       " '521dd64b-a3af-490b-85c6-d45e3b84abc9',\n",
       " 'cf6b7046-616c-4c87-8284-41552b33f428',\n",
       " '7c4207a2-c8f4-44ec-85cf-68ad70254443',\n",
       " '64b16e0c-fb1a-47e6-94a8-3b19c3b7f73e',\n",
       " '57d7168d-e77e-4681-a9a0-0b8c1561ef55',\n",
       " '112fd086-8f85-4422-a83a-73ac798c119e',\n",
       " 'a2960818-139f-40fe-a0b0-dd8dd165e5ae',\n",
       " 'fad35117-1747-48f2-9af3-d163eebf394d',\n",
       " '6ed36b07-39d8-450a-99c3-de272c633dc9',\n",
       " '86e5f000-2db1-428b-93c0-999600f26adb',\n",
       " 'a2a397e4-043c-45e0-8c0b-9575ea6f249b',\n",
       " '26475701-b884-4033-a086-475fd5ddce6e',\n",
       " 'e1a2cde0-625b-4325-a138-f99b41951fac',\n",
       " 'a485354c-a093-47b1-9440-b7f1c8c829a3',\n",
       " 'f1391a24-53ec-42d5-ada5-f974f4b56032',\n",
       " 'bac81eae-e36e-41d4-9e7f-b11ea5606a8b',\n",
       " '29f2eac3-9d27-4f7f-a356-eb05af2978cf',\n",
       " '49a72970-e7f4-4aaa-9780-32c52fdb6a40',\n",
       " 'a4bcef63-1069-4701-875c-2fb293d2e1da',\n",
       " 'cb88c32a-b9e0-4662-bd67-1796585c134d',\n",
       " 'fcd06209-fcf3-46d3-bfc4-9e68fbed7755',\n",
       " '5932f06c-bd46-4f6c-8621-c27d893d23d2',\n",
       " '9b80b9c6-2ed1-49a6-b035-f8abcc41a7f6',\n",
       " 'd2fe3233-3fcd-4e49-a4b2-3c7f6866eb8a',\n",
       " 'a2772dc0-ab47-4cf3-b4fa-e0a5beb4c3d3',\n",
       " '020c5a82-08c5-4666-a905-b76ac7087ebc',\n",
       " 'd03b92f9-e211-446f-a172-d177664465d8',\n",
       " 'f1c4e56d-2cd1-467a-aa53-4ceba64ac3fd',\n",
       " '5a99fa2f-0705-4209-901f-bff90d52dfe1',\n",
       " '41a6f890-ff3d-493d-93e0-ea71a017a14f',\n",
       " 'b3a2f15e-e095-4e59-9825-d84747786fed',\n",
       " 'f8b6aa2b-537c-42e9-a378-96c377c83c82',\n",
       " '8fbb25db-9860-44f9-b7f9-062a49c8e358',\n",
       " '0c5f2693-a6cd-40f1-9e96-d5910ed44ffc',\n",
       " '5ca6c7bf-b228-4521-b79d-4dc30d337860',\n",
       " '7f0e4385-76cf-4b3a-8335-4f92785becbb',\n",
       " 'cf778a85-53c7-4f69-a6a9-cf43bceac661',\n",
       " 'd68b7b68-dfac-41cc-b489-362a3937508c',\n",
       " '39d88085-3a04-4539-a6fd-518274616cac',\n",
       " '2b427db6-a1bd-4322-a689-ed18cbfda457',\n",
       " '88ea6569-c7ce-4a64-a62a-847e7eb7c1d8',\n",
       " '3ea41798-bbca-4f3a-8cf4-442f7a294e95',\n",
       " '739d21ec-d5ec-4cfe-93e0-7191e7678fe8',\n",
       " '9da2ed48-7469-415a-ad2b-c0666164931f',\n",
       " '3e646dc9-a435-41a0-96ea-8197d228b64e',\n",
       " 'c251e0e9-1dc5-4998-89fd-ed9578ab9868',\n",
       " '85697b3c-54e0-4716-904f-9cdc80c11a9a',\n",
       " '40d3989e-7922-4a9f-9b57-bdab7e18f975',\n",
       " '4c4cab67-0554-487a-abb4-0b9d100ddf0f',\n",
       " 'cb704ad2-2126-4c3c-b834-c190b5618cdb',\n",
       " '77306ae4-6809-4a98-823a-41d13a0a28ff',\n",
       " '3895f798-0278-4c37-87fe-c4d89f34d5e9',\n",
       " '4a711dce-dfb4-4f9b-9130-021ad1d0295a',\n",
       " '6ef32bda-f311-4040-a9d0-aa4966ab253a',\n",
       " '025e655a-3f5f-4a5a-bc99-b30f49671256',\n",
       " '80bb41a0-a272-40d7-9df2-e337dcd5521f',\n",
       " '3b331966-ae30-4cfc-b54c-6bbb5d1ac225',\n",
       " '85c3ba26-bba1-4a1f-ae37-8010a00e4c4e',\n",
       " '1bcd61d8-b393-4a5b-a609-a42c8ef2505b',\n",
       " '607dbd2a-6cba-4789-ac52-d862132e81b0',\n",
       " 'a02369ab-de4f-4f06-aa2b-054036ce1b38',\n",
       " 'f09ebe3c-89a4-47f2-9519-d6f43b0265c2',\n",
       " 'c3023506-7aa0-4429-b49b-2f5acfe049ce',\n",
       " '353a2b64-475f-4370-834f-969e94e0a9c0',\n",
       " '5c6a3efb-3673-4637-9bca-2e4d3351e144',\n",
       " 'ca31400d-9fcc-4e22-a251-a40c164bcf19',\n",
       " '9541ce24-a1f4-456d-a367-a5ea1fa3a0ac',\n",
       " '4fadad83-f570-4856-8dcb-71a4d323b5be',\n",
       " '0156f787-d2a5-4895-9b6c-58aece73494b',\n",
       " '3d28e524-4dcb-4965-b5c5-2578ae9d4c89']"
      ]
     },
     "execution_count": 8,
     "metadata": {},
     "output_type": "execute_result"
    }
   ],
   "source": [
    "from uuid import uuid4\n",
    "\n",
    "ids = [str(uuid4()) for _ in range(len(texts))]\n",
    "vector_store.add_documents(documents=texts, ids=ids)"
   ]
  },
  {
   "cell_type": "markdown",
   "metadata": {},
   "source": [
    "# 检索"
   ]
  },
  {
   "cell_type": "code",
   "execution_count": 9,
   "metadata": {},
   "outputs": [
    {
     "data": {
      "text/plain": [
       "[Document(metadata={'producer': 'Microsoft® Word 2021', 'creator': 'Microsoft® Word 2021', 'creationdate': '2024-07-13T20:17:34+03:00', 'source': '../data/Understanding_Climate_Change.pdf', 'file_path': '../data/Understanding_Climate_Change.pdf', 'total_pages': 33, 'format': 'PDF 1.7', 'title': '', 'author': 'Nir', 'subject': '', 'keywords': '', 'moddate': '2024-07-13T20:17:34+03:00', 'trapped': '', 'modDate': \"D:20240713201734+03'00'\", 'creationDate': \"D:20240713201734+03'00'\", '_id': 'a7335903-ebbf-426f-aaef-f0a1d4b59e4f', '_collection_name': 'Understanding_Climate_Change'}, page_content='Chapter 2: Causes of Climate Change \\nGreenhouse Gases \\nThe primary cause of recent climate change is the increase in greenhouse gases in the \\natmosphere. Greenhouse gases, such as carbon dioxide (CO2), methane (CH4), and nitrous \\noxide (N2O), trap heat from the sun, creating a \"greenhouse effect.\" This effect is essential \\nfor life on Earth, as it keeps the planet warm enough to support life. However, human \\nactivities have intensified this natural process, leading to a warmer climate. \\nFossil Fuels \\nBurning fossil fuels for energy releases large amounts of CO2. This includes coal, oil, and \\nnatural gas used for electricity, heating, and transportation. The industrial revolution marked \\nthe beginning of a significant increase in fossil fuel consumption, which continues to rise \\ntoday. \\nCoal\\n\\x0cCoal is the most carbon-intensive fossil fuel, and its use for electricity generation is a major \\nsource of CO2 emissions. Despite a decline in some regions, coal remains a significant'),\n",
       " Document(metadata={'producer': 'Microsoft® Word 2021', 'creator': 'Microsoft® Word 2021', 'creationdate': '2024-07-13T20:17:34+03:00', 'source': '../data/Understanding_Climate_Change.pdf', 'file_path': '../data/Understanding_Climate_Change.pdf', 'total_pages': 33, 'format': 'PDF 1.7', 'title': '', 'author': 'Nir', 'subject': '', 'keywords': '', 'moddate': '2024-07-13T20:17:34+03:00', 'trapped': '', 'modDate': \"D:20240713201734+03'00'\", 'creationDate': \"D:20240713201734+03'00'\", '_id': 'bac036a0-2610-4efe-8ed8-98126d79e4eb', '_collection_name': 'Understanding_Climate_Change'}, page_content=\"Most of these climate changes are attributed to very small variations in Earth's orbit that \\nchange the amount of solar energy our planet receives. During the Holocene epoch, which \\nbegan at the end of the last ice age, human societies flourished, but the industrial era has seen \\nunprecedented changes. \\nModern Observations \\nModern scientific observations indicate a rapid increase in global temperatures, sea levels, \\nand extreme weather events. The Intergovernmental Panel on Climate Change (IPCC) has \\ndocumented these changes extensively. Ice core samples, tree rings, and ocean sediments \\nprovide a historical record that scientists use to understand past climate conditions and \\npredict future trends. The evidence overwhelmingly shows that recent changes are primarily \\ndriven by human activities, particularly the emission of greenhouse gases. \\nChapter 2: Causes of Climate Change \\nGreenhouse Gases \\nThe primary cause of recent climate change is the increase in greenhouse gases in the\"),\n",
       " Document(metadata={'producer': 'Microsoft® Word 2021', 'creator': 'Microsoft® Word 2021', 'creationdate': '2024-07-13T20:17:34+03:00', 'source': '../data/Understanding_Climate_Change.pdf', 'file_path': '../data/Understanding_Climate_Change.pdf', 'total_pages': 33, 'format': 'PDF 1.7', 'title': '', 'author': 'Nir', 'subject': '', 'keywords': '', 'moddate': '2024-07-13T20:17:34+03:00', 'trapped': '', 'modDate': \"D:20240713201734+03'00'\", 'creationDate': \"D:20240713201734+03'00'\", '_id': 'f90aa586-ca59-4b8d-8709-752a3830bfaf', '_collection_name': 'Understanding_Climate_Change'}, page_content='Understanding Climate Change \\nChapter 1: Introduction to Climate Change \\nClimate change refers to significant, long-term changes in the global climate. The term \\n\"global climate\" encompasses the planet\\'s overall weather patterns, including temperature, \\nprecipitation, and wind patterns, over an extended period. Over the past century, human \\nactivities, particularly the burning of fossil fuels and deforestation, have significantly \\ncontributed to climate change. \\nHistorical Context \\nThe Earth\\'s climate has changed throughout history. Over the past 650,000 years, there have \\nbeen seven cycles of glacial advance and retreat, with the abrupt end of the last ice age about \\n11,700 years ago marking the beginning of the modern climate era and human civilization. \\nMost of these climate changes are attributed to very small variations in Earth\\'s orbit that \\nchange the amount of solar energy our planet receives. During the Holocene epoch, which')]"
      ]
     },
     "execution_count": 9,
     "metadata": {},
     "output_type": "execute_result"
    }
   ],
   "source": [
    "retriever = vector_store.as_retriever(search_kwargs={\"k\": 3})\n",
    "\n",
    "retrieved_docs = retriever.invoke(\"What is the main cause of climate change?\")\n",
    "\n",
    "retrieved_docs"
   ]
  },
  {
   "cell_type": "code",
   "execution_count": 10,
   "metadata": {},
   "outputs": [
    {
     "data": {
      "text/plain": [
       "[Document(metadata={'producer': 'Microsoft® Word 2021', 'creator': 'Microsoft® Word 2021', 'creationdate': '2024-07-13T20:17:34+03:00', 'source': '../data/Understanding_Climate_Change.pdf', 'file_path': '../data/Understanding_Climate_Change.pdf', 'total_pages': 33, 'format': 'PDF 1.7', 'title': '', 'author': 'Nir', 'subject': '', 'keywords': '', 'moddate': '2024-07-13T20:17:34+03:00', 'trapped': '', 'modDate': \"D:20240713201734+03'00'\", 'creationDate': \"D:20240713201734+03'00'\", '_id': 'a7335903-ebbf-426f-aaef-f0a1d4b59e4f', '_collection_name': 'Understanding_Climate_Change'}, page_content='Chapter 2: Causes of Climate Change \\nGreenhouse Gases \\nThe primary cause of recent climate change is the increase in greenhouse gases in the \\natmosphere. Greenhouse gases, such as carbon dioxide (CO2), methane (CH4), and nitrous \\noxide (N2O), trap heat from the sun, creating a \"greenhouse effect.\" This effect is essential \\nfor life on Earth, as it keeps the planet warm enough to support life. However, human \\nactivities have intensified this natural process, leading to a warmer climate. \\nFossil Fuels \\nBurning fossil fuels for energy releases large amounts of CO2. This includes coal, oil, and \\nnatural gas used for electricity, heating, and transportation. The industrial revolution marked \\nthe beginning of a significant increase in fossil fuel consumption, which continues to rise \\ntoday. \\nCoal\\n\\x0cCoal is the most carbon-intensive fossil fuel, and its use for electricity generation is a major \\nsource of CO2 emissions. Despite a decline in some regions, coal remains a significant'),\n",
       " Document(metadata={'producer': 'Microsoft® Word 2021', 'creator': 'Microsoft® Word 2021', 'creationdate': '2024-07-13T20:17:34+03:00', 'source': '../data/Understanding_Climate_Change.pdf', 'file_path': '../data/Understanding_Climate_Change.pdf', 'total_pages': 33, 'format': 'PDF 1.7', 'title': '', 'author': 'Nir', 'subject': '', 'keywords': '', 'moddate': '2024-07-13T20:17:34+03:00', 'trapped': '', 'modDate': \"D:20240713201734+03'00'\", 'creationDate': \"D:20240713201734+03'00'\", '_id': 'bac036a0-2610-4efe-8ed8-98126d79e4eb', '_collection_name': 'Understanding_Climate_Change'}, page_content=\"Most of these climate changes are attributed to very small variations in Earth's orbit that \\nchange the amount of solar energy our planet receives. During the Holocene epoch, which \\nbegan at the end of the last ice age, human societies flourished, but the industrial era has seen \\nunprecedented changes. \\nModern Observations \\nModern scientific observations indicate a rapid increase in global temperatures, sea levels, \\nand extreme weather events. The Intergovernmental Panel on Climate Change (IPCC) has \\ndocumented these changes extensively. Ice core samples, tree rings, and ocean sediments \\nprovide a historical record that scientists use to understand past climate conditions and \\npredict future trends. The evidence overwhelmingly shows that recent changes are primarily \\ndriven by human activities, particularly the emission of greenhouse gases. \\nChapter 2: Causes of Climate Change \\nGreenhouse Gases \\nThe primary cause of recent climate change is the increase in greenhouse gases in the\"),\n",
       " Document(metadata={'producer': 'Microsoft® Word 2021', 'creator': 'Microsoft® Word 2021', 'creationdate': '2024-07-13T20:17:34+03:00', 'source': '../data/Understanding_Climate_Change.pdf', 'file_path': '../data/Understanding_Climate_Change.pdf', 'total_pages': 33, 'format': 'PDF 1.7', 'title': '', 'author': 'Nir', 'subject': '', 'keywords': '', 'moddate': '2024-07-13T20:17:34+03:00', 'trapped': '', 'modDate': \"D:20240713201734+03'00'\", 'creationDate': \"D:20240713201734+03'00'\", '_id': 'f90aa586-ca59-4b8d-8709-752a3830bfaf', '_collection_name': 'Understanding_Climate_Change'}, page_content='Understanding Climate Change \\nChapter 1: Introduction to Climate Change \\nClimate change refers to significant, long-term changes in the global climate. The term \\n\"global climate\" encompasses the planet\\'s overall weather patterns, including temperature, \\nprecipitation, and wind patterns, over an extended period. Over the past century, human \\nactivities, particularly the burning of fossil fuels and deforestation, have significantly \\ncontributed to climate change. \\nHistorical Context \\nThe Earth\\'s climate has changed throughout history. Over the past 650,000 years, there have \\nbeen seven cycles of glacial advance and retreat, with the abrupt end of the last ice age about \\n11,700 years ago marking the beginning of the modern climate era and human civilization. \\nMost of these climate changes are attributed to very small variations in Earth\\'s orbit that \\nchange the amount of solar energy our planet receives. During the Holocene epoch, which')]"
      ]
     },
     "execution_count": 10,
     "metadata": {},
     "output_type": "execute_result"
    }
   ],
   "source": [
    "retrieved_docs = retriever.invoke(\"气候变化的主要原因是什么？\")\n",
    "\n",
    "retrieved_docs"
   ]
  },
  {
   "cell_type": "markdown",
   "metadata": {},
   "source": [
    "# 增强生成"
   ]
  },
  {
   "cell_type": "code",
   "execution_count": 11,
   "metadata": {},
   "outputs": [],
   "source": [
    "from langchain_openai import ChatOpenAI\n",
    "\n",
    "llm = ChatOpenAI(model=\"qwen-max\", temperature=0)"
   ]
  },
  {
   "cell_type": "code",
   "execution_count": 12,
   "metadata": {},
   "outputs": [],
   "source": [
    "from langchain.prompts import ChatPromptTemplate\n",
    "\n",
    "# Prompt\n",
    "template = \"\"\"Answer the question based only on the following context:\n",
    "{context}\n",
    "\n",
    "Question: {question}\n",
    "\"\"\"\n",
    "prompt = ChatPromptTemplate.from_template(template)\n",
    "\n",
    "# Chain\n",
    "chain = prompt | llm"
   ]
  },
  {
   "cell_type": "code",
   "execution_count": 13,
   "metadata": {},
   "outputs": [
    {
     "data": {
      "text/plain": [
       "AIMessage(content='The main cause of recent climate change is the increase in greenhouse gases in the atmosphere, primarily due to human activities such as the burning of fossil fuels (coal, oil, and natural gas) for energy, which releases large amounts of carbon dioxide (CO2).', additional_kwargs={'refusal': None}, response_metadata={'token_usage': {'completion_tokens': 52, 'prompt_tokens': 1462, 'total_tokens': 1514, 'completion_tokens_details': None, 'prompt_tokens_details': {'audio_tokens': None, 'cached_tokens': 0}}, 'model_name': 'qwen-max', 'system_fingerprint': None, 'finish_reason': 'stop', 'logprobs': None}, id='run-2a4f6cea-85ff-4541-9c91-cd329410882a-0', usage_metadata={'input_tokens': 1462, 'output_tokens': 52, 'total_tokens': 1514, 'input_token_details': {'cache_read': 0}, 'output_token_details': {}})"
      ]
     },
     "execution_count": 13,
     "metadata": {},
     "output_type": "execute_result"
    }
   ],
   "source": [
    "result = chain.invoke(\n",
    "    {\"context\": retrieved_docs, \"question\": \"What is the main cause of climate change?\"}\n",
    ")\n",
    "\n",
    "result"
   ]
  },
  {
   "cell_type": "code",
   "execution_count": 14,
   "metadata": {},
   "outputs": [
    {
     "data": {
      "text/plain": [
       "AIMessage(content='气候变化的主要原因是大气中温室气体的增加。温室气体，如二氧化碳（CO2）、甲烷（CH4）和一氧化二氮（N2O），会捕获来自太阳的热量，产生“温室效应”。这种效应对于地球上的生命至关重要，因为它使地球保持足够的温暖以支持生命。然而，人类活动加剧了这一自然过程，导致气候变暖。燃烧化石燃料（如煤、石油和天然气）用于发电、供暖和运输，释放大量二氧化碳，这是温室气体增加的一个主要原因。', additional_kwargs={'refusal': None}, response_metadata={'token_usage': {'completion_tokens': 110, 'prompt_tokens': 1462, 'total_tokens': 1572, 'completion_tokens_details': None, 'prompt_tokens_details': {'audio_tokens': None, 'cached_tokens': 0}}, 'model_name': 'qwen-max', 'system_fingerprint': None, 'finish_reason': 'stop', 'logprobs': None}, id='run-3b9cc880-5f41-410f-a527-66907b458371-0', usage_metadata={'input_tokens': 1462, 'output_tokens': 110, 'total_tokens': 1572, 'input_token_details': {'cache_read': 0}, 'output_token_details': {}})"
      ]
     },
     "execution_count": 14,
     "metadata": {},
     "output_type": "execute_result"
    }
   ],
   "source": [
    "# Run\n",
    "result = chain.invoke(\n",
    "    {\"context\": retrieved_docs, \"question\": \"气候变化的主要原因是什么？\"}\n",
    ")\n",
    "\n",
    "result"
   ]
  },
  {
   "cell_type": "markdown",
   "metadata": {},
   "source": [
    "# 检索增强生成链"
   ]
  },
  {
   "cell_type": "code",
   "execution_count": 15,
   "metadata": {},
   "outputs": [],
   "source": [
    "from langchain_core.output_parsers import StrOutputParser\n",
    "from langchain_core.runnables import RunnablePassthrough\n",
    "\n",
    "rag_chain = (\n",
    "    {\"context\": retriever, \"question\": RunnablePassthrough()}\n",
    "    | prompt\n",
    "    | llm\n",
    "    | StrOutputParser()\n",
    ")\n",
    "\n",
    "result = rag_chain.invoke(\"气候变化的主要原因是什么？\")"
   ]
  },
  {
   "cell_type": "code",
   "execution_count": 16,
   "metadata": {},
   "outputs": [
    {
     "data": {
      "text/plain": [
       "'气候变化的主要原因是大气中温室气体的增加。这些温室气体，如二氧化碳（CO2）、甲烷（CH4）和一氧化二氮（N2O），会捕获太阳的热量，产生“温室效应”。虽然这种效应对于维持地球温暖、支持生命是必不可少的，但人类活动加剧了这一自然过程，导致气\\n候变暖。特别是燃烧化石燃料（煤、石油和天然气）用于发电、供暖和交通等活动释放了大量的二氧化碳，从而增加了温室气体的浓度。自工业革命以来，化石燃料的消耗显著增加，并且至今仍在增长。'"
      ]
     },
     "execution_count": 16,
     "metadata": {},
     "output_type": "execute_result"
    }
   ],
   "source": [
    "import textwrap\n",
    "\n",
    "textwrap.fill(result, width=120)"
   ]
  }
 ],
 "metadata": {
  "kernelspec": {
   "display_name": "rag",
   "language": "python",
   "name": "python3"
  },
  "language_info": {
   "codemirror_mode": {
    "name": "ipython",
    "version": 3
   },
   "file_extension": ".py",
   "mimetype": "text/x-python",
   "name": "python",
   "nbconvert_exporter": "python",
   "pygments_lexer": "ipython3",
   "version": "3.12.9"
  }
 },
 "nbformat": 4,
 "nbformat_minor": 2
}
