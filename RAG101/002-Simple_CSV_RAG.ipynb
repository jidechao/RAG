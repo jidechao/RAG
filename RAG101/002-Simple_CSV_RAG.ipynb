{
 "cells": [
  {
   "cell_type": "code",
   "execution_count": 1,
   "metadata": {},
   "outputs": [],
   "source": [
    "import sys\n",
    "import os\n",
    "from dotenv import load_dotenv\n",
    "\n",
    "\n",
    "load_dotenv()\n",
    "\n",
    "OPENAI_API_BASE = os.environ.get(\"OPENAI_API_BASE\")\n",
    "OPENAI_API_KEY = os.environ.get(\"OPENAI_API_KEY\")\n",
    "\n",
    "sys.path.append(os.path.abspath(os.path.join(os.getcwd(), '..')))"
   ]
  },
  {
   "cell_type": "code",
   "execution_count": 2,
   "metadata": {},
   "outputs": [],
   "source": [
    "from langchain_openai import ChatOpenAI\n",
    "from helper_functions import get_local_embedding_model\n",
    "\n",
    "\n",
    "llm = ChatOpenAI(model=\"qwen-max\", temperature=0)\n",
    "embedding_model = get_local_embedding_model(model_name=\"C:\\\\Home\\\\Documents\\\\Projects\\\\models\\\\BAAI\\\\bge-large-en-v1.5\")"
   ]
  },
  {
   "cell_type": "markdown",
   "metadata": {},
   "source": [
    "# 加载 CSV 文件"
   ]
  },
  {
   "cell_type": "code",
   "execution_count": 3,
   "metadata": {},
   "outputs": [
    {
     "data": {
      "text/html": [
       "<div>\n",
       "<style scoped>\n",
       "    .dataframe tbody tr th:only-of-type {\n",
       "        vertical-align: middle;\n",
       "    }\n",
       "\n",
       "    .dataframe tbody tr th {\n",
       "        vertical-align: top;\n",
       "    }\n",
       "\n",
       "    .dataframe thead th {\n",
       "        text-align: right;\n",
       "    }\n",
       "</style>\n",
       "<table border=\"1\" class=\"dataframe\">\n",
       "  <thead>\n",
       "    <tr style=\"text-align: right;\">\n",
       "      <th></th>\n",
       "      <th>Index</th>\n",
       "      <th>Customer Id</th>\n",
       "      <th>First Name</th>\n",
       "      <th>Last Name</th>\n",
       "      <th>Company</th>\n",
       "      <th>City</th>\n",
       "      <th>Country</th>\n",
       "      <th>Phone 1</th>\n",
       "      <th>Phone 2</th>\n",
       "      <th>Email</th>\n",
       "      <th>Subscription Date</th>\n",
       "      <th>Website</th>\n",
       "    </tr>\n",
       "  </thead>\n",
       "  <tbody>\n",
       "    <tr>\n",
       "      <th>0</th>\n",
       "      <td>1</td>\n",
       "      <td>DD37Cf93aecA6Dc</td>\n",
       "      <td>Sheryl</td>\n",
       "      <td>Baxter</td>\n",
       "      <td>Rasmussen Group</td>\n",
       "      <td>East Leonard</td>\n",
       "      <td>Chile</td>\n",
       "      <td>229.077.5154</td>\n",
       "      <td>397.884.0519x718</td>\n",
       "      <td>zunigavanessa@smith.info</td>\n",
       "      <td>2020-08-24</td>\n",
       "      <td>http://www.stephenson.com/</td>\n",
       "    </tr>\n",
       "    <tr>\n",
       "      <th>1</th>\n",
       "      <td>2</td>\n",
       "      <td>1Ef7b82A4CAAD10</td>\n",
       "      <td>Preston</td>\n",
       "      <td>Lozano</td>\n",
       "      <td>Vega-Gentry</td>\n",
       "      <td>East Jimmychester</td>\n",
       "      <td>Djibouti</td>\n",
       "      <td>5153435776</td>\n",
       "      <td>686-620-1820x944</td>\n",
       "      <td>vmata@colon.com</td>\n",
       "      <td>2021-04-23</td>\n",
       "      <td>http://www.hobbs.com/</td>\n",
       "    </tr>\n",
       "    <tr>\n",
       "      <th>2</th>\n",
       "      <td>3</td>\n",
       "      <td>6F94879bDAfE5a6</td>\n",
       "      <td>Roy</td>\n",
       "      <td>Berry</td>\n",
       "      <td>Murillo-Perry</td>\n",
       "      <td>Isabelborough</td>\n",
       "      <td>Antigua and Barbuda</td>\n",
       "      <td>+1-539-402-0259</td>\n",
       "      <td>(496)978-3969x58947</td>\n",
       "      <td>beckycarr@hogan.com</td>\n",
       "      <td>2020-03-25</td>\n",
       "      <td>http://www.lawrence.com/</td>\n",
       "    </tr>\n",
       "    <tr>\n",
       "      <th>3</th>\n",
       "      <td>4</td>\n",
       "      <td>5Cef8BFA16c5e3c</td>\n",
       "      <td>Linda</td>\n",
       "      <td>Olsen</td>\n",
       "      <td>Dominguez, Mcmillan and Donovan</td>\n",
       "      <td>Bensonview</td>\n",
       "      <td>Dominican Republic</td>\n",
       "      <td>001-808-617-6467x12895</td>\n",
       "      <td>+1-813-324-8756</td>\n",
       "      <td>stanleyblackwell@benson.org</td>\n",
       "      <td>2020-06-02</td>\n",
       "      <td>http://www.good-lyons.com/</td>\n",
       "    </tr>\n",
       "    <tr>\n",
       "      <th>4</th>\n",
       "      <td>5</td>\n",
       "      <td>053d585Ab6b3159</td>\n",
       "      <td>Joanna</td>\n",
       "      <td>Bender</td>\n",
       "      <td>Martin, Lang and Andrade</td>\n",
       "      <td>West Priscilla</td>\n",
       "      <td>Slovakia (Slovak Republic)</td>\n",
       "      <td>001-234-203-0635x76146</td>\n",
       "      <td>001-199-446-3860x3486</td>\n",
       "      <td>colinalvarado@miles.net</td>\n",
       "      <td>2021-04-17</td>\n",
       "      <td>https://goodwin-ingram.com/</td>\n",
       "    </tr>\n",
       "  </tbody>\n",
       "</table>\n",
       "</div>"
      ],
      "text/plain": [
       "   Index      Customer Id First Name Last Name  \\\n",
       "0      1  DD37Cf93aecA6Dc     Sheryl    Baxter   \n",
       "1      2  1Ef7b82A4CAAD10    Preston    Lozano   \n",
       "2      3  6F94879bDAfE5a6        Roy     Berry   \n",
       "3      4  5Cef8BFA16c5e3c      Linda     Olsen   \n",
       "4      5  053d585Ab6b3159     Joanna    Bender   \n",
       "\n",
       "                           Company               City  \\\n",
       "0                  Rasmussen Group       East Leonard   \n",
       "1                      Vega-Gentry  East Jimmychester   \n",
       "2                    Murillo-Perry      Isabelborough   \n",
       "3  Dominguez, Mcmillan and Donovan         Bensonview   \n",
       "4         Martin, Lang and Andrade     West Priscilla   \n",
       "\n",
       "                      Country                 Phone 1                Phone 2  \\\n",
       "0                       Chile            229.077.5154       397.884.0519x718   \n",
       "1                    Djibouti              5153435776       686-620-1820x944   \n",
       "2         Antigua and Barbuda         +1-539-402-0259    (496)978-3969x58947   \n",
       "3          Dominican Republic  001-808-617-6467x12895        +1-813-324-8756   \n",
       "4  Slovakia (Slovak Republic)  001-234-203-0635x76146  001-199-446-3860x3486   \n",
       "\n",
       "                         Email Subscription Date                      Website  \n",
       "0     zunigavanessa@smith.info        2020-08-24   http://www.stephenson.com/  \n",
       "1              vmata@colon.com        2021-04-23        http://www.hobbs.com/  \n",
       "2          beckycarr@hogan.com        2020-03-25     http://www.lawrence.com/  \n",
       "3  stanleyblackwell@benson.org        2020-06-02   http://www.good-lyons.com/  \n",
       "4      colinalvarado@miles.net        2021-04-17  https://goodwin-ingram.com/  "
      ]
     },
     "execution_count": 3,
     "metadata": {},
     "output_type": "execute_result"
    }
   ],
   "source": [
    "import pandas as pd\n",
    "\n",
    "file_path = \"../data/customers-100.csv\"\n",
    "data = pd.read_csv(file_path)\n",
    "\n",
    "data.head()"
   ]
  },
  {
   "cell_type": "code",
   "execution_count": 4,
   "metadata": {},
   "outputs": [
    {
     "data": {
      "text/plain": [
       "100"
      ]
     },
     "execution_count": 4,
     "metadata": {},
     "output_type": "execute_result"
    }
   ],
   "source": [
    "from langchain_community.document_loaders.csv_loader import CSVLoader\n",
    "\n",
    "\n",
    "csv_loader = CSVLoader(file_path=file_path)\n",
    "docs = csv_loader.load_and_split()\n",
    "\n",
    "len(docs)"
   ]
  },
  {
   "cell_type": "code",
   "execution_count": 5,
   "metadata": {},
   "outputs": [
    {
     "name": "stdout",
     "output_type": "stream",
     "text": [
      "Index: 1\n",
      "Customer Id: DD37Cf93aecA6Dc\n",
      "First Name: Sheryl\n",
      "Last Name: Baxter\n",
      "Company: Rasmussen Group\n",
      "City: East Leonard\n",
      "Country: Chile\n",
      "Phone 1: 229.077.5154\n",
      "Phone 2: 397.884.0519x718\n",
      "Email: zunigavanessa@smith.info\n",
      "Subscription Date: 2020-08-24\n",
      "Website: http://www.stephenson.com/\n"
     ]
    }
   ],
   "source": [
    "print(docs[0].page_content)"
   ]
  },
  {
   "cell_type": "markdown",
   "metadata": {},
   "source": [
    "# 将 CSV 文件插入向量数据库"
   ]
  },
  {
   "cell_type": "code",
   "execution_count": 6,
   "metadata": {},
   "outputs": [
    {
     "data": {
      "text/plain": [
       "['f3bc9bed-5e11-4c67-8cc8-9f276c11079e',\n",
       " '16ad13a3-8c7c-463a-948a-6148514163e9',\n",
       " '813fbcb4-203b-4cb1-86e1-8672c0997f3f',\n",
       " 'bb869f82-c666-4c40-b4b0-e5c54cfefc5d',\n",
       " '7f27891b-6f54-430c-9359-9b49eee75b08',\n",
       " 'a93c4a95-305f-4822-a41c-71cb725bbcb9',\n",
       " '470b869b-ed27-4051-a75f-7ef67337d540',\n",
       " '1f2e76c1-30f8-45e3-b349-55e6ce88f4db',\n",
       " 'f454fe9f-801b-4aae-95ea-a6d9af649a8c',\n",
       " 'e43c1691-0d3a-476a-8a59-7728a0c65c5a',\n",
       " 'cd401506-53c6-47e5-86a8-af283b006123',\n",
       " '935c04e4-d96c-4620-9f56-c0fba01afb0e',\n",
       " '0fec2e1e-7eaa-4eaf-a788-6ae6be2929d7',\n",
       " 'e0e3486b-43d7-47e6-a3c2-3ff3fd8e4608',\n",
       " '686426b1-4378-446a-afa4-f29c74ab4b2a',\n",
       " 'b17b4303-47cd-4d04-accd-2bab447972a6',\n",
       " 'f2bc61c8-b0f8-40bb-a057-e24e92252216',\n",
       " '992c5ebc-6070-41fb-9d24-23c468bddc3e',\n",
       " '46e4fc63-f1aa-42bf-8eaf-040039c2d858',\n",
       " '2d998885-85c9-4a0c-96f9-3affa9d93791',\n",
       " '672f8da3-5bac-48cc-855c-8a9072d84c87',\n",
       " '5c7f6a07-926f-4ac8-8730-ef9bc9e1b310',\n",
       " 'cbfc5ed4-00b7-4d08-b20f-8c738aee9127',\n",
       " 'debed951-d4a0-49d8-ba7c-108c6bc74b89',\n",
       " '762a5eac-7b04-4ec6-832d-41569cc8c9ff',\n",
       " 'dc8f65ec-6782-4730-a253-e7d29e30d6f1',\n",
       " '4f19b2e3-512c-430a-928d-a4e0351c550e',\n",
       " '9a454ca7-587a-4876-a2b9-273fd4b11710',\n",
       " 'e738efc1-1c2b-4b63-a065-8ace7cf8d324',\n",
       " '4c10dd3f-3f1b-4dd1-b9fc-959a36ab5227',\n",
       " '33e7f44a-3083-477b-b4ef-9388282341f1',\n",
       " '3cc71f1d-0d9c-428f-8776-0f4431a7ebc5',\n",
       " '8be6a9e7-cdb6-43f0-857c-e5b018ae0400',\n",
       " 'b1eacdb2-d1b6-4b61-bfe3-ed98b92dc2cc',\n",
       " '8ea7de0f-b086-40bb-84b0-e7918df24dfe',\n",
       " 'e17325e4-02c9-4a3f-b24e-9be18f416ef7',\n",
       " 'a175392b-9550-405d-b039-f0ea0a32e81e',\n",
       " '5e15f0e9-8930-4cda-acfd-aff284747d1c',\n",
       " 'f17b7a57-0aec-42d8-981d-2bb3ec7ba30e',\n",
       " '71b3138f-64ee-46ff-bbd0-a7a168a3de1e',\n",
       " '9319762c-ce23-4d9d-acc0-2aa17c0bdbb1',\n",
       " '58244dca-9c23-4fda-873d-417053fe6408',\n",
       " '443b0718-8d0b-4ce6-86fc-9b204ca39a8e',\n",
       " 'c7a78d1e-144e-41e0-88d1-a4a53bc654a5',\n",
       " 'f62ac8b2-7738-4934-af96-4257b62e149b',\n",
       " 'a9a8f6f1-7963-434f-abde-2d9c11ef46f4',\n",
       " 'c285d708-6bb7-4632-88c0-e4cb4f80a5a8',\n",
       " '371201e8-c4df-46d3-a201-2550c244d58b',\n",
       " '555951c6-00a7-4568-8ecf-ff5d31effa2a',\n",
       " 'a2ddadce-efd4-41f8-88a9-9421beb5b209',\n",
       " 'c7599101-5156-4910-b7a0-d3d7b0eb4f01',\n",
       " 'bcae60e3-389d-4390-813f-644c96417d75',\n",
       " '680ae985-c16f-4c67-bb81-c0b87c2e08f1',\n",
       " '16173899-24d1-4934-8e27-129b331bcac8',\n",
       " '94bbdc4f-13bd-43a5-b797-180c1265cd68',\n",
       " 'da063c6d-f0b7-4892-b2fd-0b1c53b7db44',\n",
       " '6a0d1fcb-d48f-456e-b003-33e3402c4ca7',\n",
       " '4a6840a8-6de5-4480-9ab0-f64a9be68726',\n",
       " '75c4b208-602c-4fd6-bcb8-329c989e6fbd',\n",
       " 'a66f08e2-ab25-4423-a6cf-3aa77183d89a',\n",
       " '46f322b1-8c6d-474f-a9e9-1a18d1e1f7f4',\n",
       " 'ce07daee-4acf-41bb-a48a-c10cf9e3e838',\n",
       " 'aab0c9e4-05e5-40ab-a4d2-b548abf7b79b',\n",
       " '54341140-7f30-4e21-8f31-94e5e16d2d37',\n",
       " '3410b5c1-45d1-4203-a7a6-8ec04f809efa',\n",
       " '391c55ff-e94e-4df6-af8b-aebe4698477d',\n",
       " 'e691c82b-9f8a-4a66-9a9d-8a6d43d46d1e',\n",
       " 'e6eab7ee-feff-4460-8948-6e5844a7f6fd',\n",
       " '477faf73-72ab-4b88-8293-06e7fcff2f04',\n",
       " '8490ea28-4136-4111-8e4f-9754bfcefc36',\n",
       " '69bd71f8-3cb5-4f08-8550-316da6b9af4b',\n",
       " 'f5629b44-eb24-4f2e-893a-8c0de203d80a',\n",
       " 'fa1a15f5-98e1-465c-a9b7-98cf45422c85',\n",
       " '80fee44a-1a09-45d5-adf1-9ea13a68a7ec',\n",
       " '73ca3fa0-3e78-431f-88a2-7d9e098f16b5',\n",
       " '6c7f5ffa-038b-400a-be0b-309a8c357007',\n",
       " '2ba8dde9-aa6f-4809-8568-83bd3a51f609',\n",
       " 'd21d0310-48ee-4a87-b3c2-486d60da5333',\n",
       " '75de5631-9704-4b21-94b3-cf094cb575d6',\n",
       " 'f271a2b7-f5cc-4dcd-9a01-57f4bbc92ae8',\n",
       " '13f1b038-42f8-49d3-98bb-3a925fb010bc',\n",
       " '54b3ebb6-1f90-40ba-8d3a-609e2f5b2855',\n",
       " '7c0ac029-ca7d-4b50-8b3f-57c1ea715102',\n",
       " '2ffeb69d-e904-45e1-adab-12c7620ec147',\n",
       " '6ba1952e-3d5f-4556-808f-cfb50830c05e',\n",
       " 'a1c27b77-2dd2-44e3-9943-388e06a1c184',\n",
       " 'b9a72ee9-95ba-45d1-96e3-df607ec25567',\n",
       " '8be3c176-b36a-4016-b8d8-c1c9e7e75ad5',\n",
       " 'fa3db53c-b313-4621-a500-64389f9268c6',\n",
       " 'c114f09b-de82-4d2e-9d45-98af7375a363',\n",
       " '3ada68da-bdc8-40d3-9cf2-0ef8f348d9bd',\n",
       " 'aa5b31e6-11ff-4b1d-9c92-1a9f9a7044a3',\n",
       " '97e8e5f5-ce12-4e14-ad19-6e21299f4e85',\n",
       " 'a270c9b3-058e-4341-bc3d-367c3be0d9df',\n",
       " 'b2b7e5b6-c6fd-43b6-8e3d-5fc915fa3190',\n",
       " '3bdbd13b-1986-49da-8a16-973fee024478',\n",
       " 'fce515ff-1c63-48f0-b8af-f077801899c5',\n",
       " 'c6282227-31fa-4b7a-b340-ba349ffb3326',\n",
       " '52ebd51d-d0e9-4805-8cd3-5ef848f59994',\n",
       " 'cef11c82-7089-4cf0-8a7b-23ff30a2ee06']"
      ]
     },
     "execution_count": 6,
     "metadata": {},
     "output_type": "execute_result"
    }
   ],
   "source": [
    "from uuid import uuid4\n",
    "from langchain_qdrant import QdrantVectorStore\n",
    "from qdrant_client import QdrantClient\n",
    "from qdrant_client.http.models import Distance, VectorParams\n",
    "\n",
    "\n",
    "client = QdrantClient(host=\"127.0.0.1\", port=6333)\n",
    "\n",
    "collection_name = \"csv_file\"\n",
    "\n",
    "if not client.collection_exists(collection_name=collection_name):\n",
    "    client.create_collection(\n",
    "        collection_name=collection_name,\n",
    "        vectors_config=VectorParams(size=1024, distance=Distance.COSINE),\n",
    "    )\n",
    "\n",
    "vector_store = QdrantVectorStore(\n",
    "    client=client,\n",
    "    collection_name=collection_name,\n",
    "    embedding=embedding_model,\n",
    ")\n",
    "\n",
    "ids = [str(uuid4()) for _ in range(len(docs))]\n",
    "vector_store.add_documents(documents=docs, ids=ids)"
   ]
  },
  {
   "cell_type": "markdown",
   "metadata": {},
   "source": [
    "# 创建 RAG 链"
   ]
  },
  {
   "cell_type": "code",
   "execution_count": 7,
   "metadata": {},
   "outputs": [
    {
     "data": {
      "text/plain": [
       "[Document(metadata={'source': '../data/customers-100.csv', 'row': 0, '_id': 'f3bc9bed-5e11-4c67-8cc8-9f276c11079e', '_collection_name': 'csv_file'}, page_content='Index: 1\\nCustomer Id: DD37Cf93aecA6Dc\\nFirst Name: Sheryl\\nLast Name: Baxter\\nCompany: Rasmussen Group\\nCity: East Leonard\\nCountry: Chile\\nPhone 1: 229.077.5154\\nPhone 2: 397.884.0519x718\\nEmail: zunigavanessa@smith.info\\nSubscription Date: 2020-08-24\\nWebsite: http://www.stephenson.com/'),\n",
       " Document(metadata={'source': '../data/customers-100.csv', 'row': 8, '_id': 'f454fe9f-801b-4aae-95ea-a6d9af649a8c', '_collection_name': 'csv_file'}, page_content='Index: 9\\nCustomer Id: C2dE4dEEc489ae0\\nFirst Name: Sheryl\\nLast Name: Meyers\\nCompany: Browning-Simon\\nCity: Robersonstad\\nCountry: Cyprus\\nPhone 1: 854-138-4911x5772\\nPhone 2: +1-448-910-2276x729\\nEmail: mariokhan@ryan-pope.org\\nSubscription Date: 2020-01-13\\nWebsite: https://www.bullock.net/'),\n",
       " Document(metadata={'source': '../data/customers-100.csv', 'row': 42, '_id': '443b0718-8d0b-4ce6-86fc-9b204ca39a8e', '_collection_name': 'csv_file'}, page_content='Index: 43\\nCustomer Id: 7E441b6B228DBcA\\nFirst Name: Wayne\\nLast Name: Simpson\\nCompany: Perkins-Trevino\\nCity: East Rebekahborough\\nCountry: Bolivia\\nPhone 1: (344)156-8632x1869\\nPhone 2: 463-445-3702x38463\\nEmail: barbarapittman@holder.com\\nSubscription Date: 2020-12-13\\nWebsite: https://gillespie-holder.com/')]"
      ]
     },
     "execution_count": 7,
     "metadata": {},
     "output_type": "execute_result"
    }
   ],
   "source": [
    "retriever=vector_store.as_retriever(search_kwargs={\"k\": 3})\n",
    "\n",
    "retriever.invoke(\"which company does sheryl Baxter work for?\")"
   ]
  },
  {
   "cell_type": "code",
   "execution_count": null,
   "metadata": {},
   "outputs": [],
   "source": [
    "from langchain_core.prompts import ChatPromptTemplate\n",
    "from langchain.chains import create_retrieval_chain\n",
    "from langchain.chains.combine_documents import create_stuff_documents_chain\n",
    "\n",
    "\n",
    "# 设置系统提示\n",
    "system_prompt = (\n",
    "    \"You are an assistant for question-answering tasks. \"\n",
    "    \"Use the following pieces of retrieved context to answer \"\n",
    "    \"the question. If you don't know the answer, say that you \"\n",
    "    \"don't know. Use three sentences maximum and keep the \"\n",
    "    \"answer concise.\"\n",
    "    \"\\n\\n\"\n",
    "    \"{context}\"\n",
    ")\n",
    "\n",
    "prompt = ChatPromptTemplate.from_messages([\n",
    "    (\"system\", system_prompt),\n",
    "    (\"human\", \"{input}\"),\n",
    "    \n",
    "])\n",
    "\n",
    "combine_docs_chain = create_stuff_documents_chain(llm, prompt)\n",
    "rag_chain = create_retrieval_chain(retriever, combine_docs_chain)"
   ]
  },
  {
   "cell_type": "code",
   "execution_count": 12,
   "metadata": {},
   "outputs": [
    {
     "data": {
      "text/plain": [
       "{'input': 'which company does sheryl Baxter work for?',\n",
       " 'context': [Document(metadata={'source': '../data/customers-100.csv', 'row': 0, '_id': 'f3bc9bed-5e11-4c67-8cc8-9f276c11079e', '_collection_name': 'csv_file'}, page_content='Index: 1\\nCustomer Id: DD37Cf93aecA6Dc\\nFirst Name: Sheryl\\nLast Name: Baxter\\nCompany: Rasmussen Group\\nCity: East Leonard\\nCountry: Chile\\nPhone 1: 229.077.5154\\nPhone 2: 397.884.0519x718\\nEmail: zunigavanessa@smith.info\\nSubscription Date: 2020-08-24\\nWebsite: http://www.stephenson.com/'),\n",
       "  Document(metadata={'source': '../data/customers-100.csv', 'row': 8, '_id': 'f454fe9f-801b-4aae-95ea-a6d9af649a8c', '_collection_name': 'csv_file'}, page_content='Index: 9\\nCustomer Id: C2dE4dEEc489ae0\\nFirst Name: Sheryl\\nLast Name: Meyers\\nCompany: Browning-Simon\\nCity: Robersonstad\\nCountry: Cyprus\\nPhone 1: 854-138-4911x5772\\nPhone 2: +1-448-910-2276x729\\nEmail: mariokhan@ryan-pope.org\\nSubscription Date: 2020-01-13\\nWebsite: https://www.bullock.net/'),\n",
       "  Document(metadata={'source': '../data/customers-100.csv', 'row': 42, '_id': '443b0718-8d0b-4ce6-86fc-9b204ca39a8e', '_collection_name': 'csv_file'}, page_content='Index: 43\\nCustomer Id: 7E441b6B228DBcA\\nFirst Name: Wayne\\nLast Name: Simpson\\nCompany: Perkins-Trevino\\nCity: East Rebekahborough\\nCountry: Bolivia\\nPhone 1: (344)156-8632x1869\\nPhone 2: 463-445-3702x38463\\nEmail: barbarapittman@holder.com\\nSubscription Date: 2020-12-13\\nWebsite: https://gillespie-holder.com/')],\n",
       " 'answer': 'Sheryl Baxter works for Rasmussen Group.'}"
      ]
     },
     "execution_count": 12,
     "metadata": {},
     "output_type": "execute_result"
    }
   ],
   "source": [
    "rag_chain.invoke({\"input\": \"which company does sheryl Baxter work for?\"})"
   ]
  },
  {
   "cell_type": "code",
   "execution_count": null,
   "metadata": {},
   "outputs": [],
   "source": []
  }
 ],
 "metadata": {
  "kernelspec": {
   "display_name": "rag",
   "language": "python",
   "name": "python3"
  },
  "language_info": {
   "codemirror_mode": {
    "name": "ipython",
    "version": 3
   },
   "file_extension": ".py",
   "mimetype": "text/x-python",
   "name": "python",
   "nbconvert_exporter": "python",
   "pygments_lexer": "ipython3",
   "version": "3.12.9"
  }
 },
 "nbformat": 4,
 "nbformat_minor": 2
}
