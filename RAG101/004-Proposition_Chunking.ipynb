{
 "cells": [
  {
   "cell_type": "code",
   "execution_count": 1,
   "metadata": {},
   "outputs": [],
   "source": [
    "from dotenv import load_dotenv\n",
    "from langchain_openai import ChatOpenAI\n",
    "from helper_functions import get_local_embedding_model\n",
    "\n",
    "\n",
    "load_dotenv()\n",
    "\n",
    "\n",
    "llm = ChatOpenAI(model=\"qwen-max\", temperature=0)\n",
    "embedding_model = get_local_embedding_model()"
   ]
  },
  {
   "cell_type": "markdown",
   "metadata": {},
   "source": [
    "# 样本数据集"
   ]
  },
  {
   "cell_type": "code",
   "execution_count": 2,
   "metadata": {},
   "outputs": [],
   "source": [
    "sample_content = \"\"\"保罗·格雷厄姆在2024年9月发表的文章《创始人模式》（Founder Mode）挑战了关于创业公司扩张的传统智慧。他认为，创始人应当坚持自己的独特管理风格，而非在公司成长过程中采纳传统的企业管理模式。  \n",
    "传统智慧 VS 创始人模式\n",
    "文章指出，针对成长型公司的传统建议——招聘优秀人才并给予他们自主权——在创业公司环境下往往行不通。这种方法虽然适用于成熟企业，但对创业公司而言可能是有害的，因为创始人的愿景和直接参与至关重要。文章提出，“创始人模式”是一种尚未被充分理解或系统化的新兴管理范式，与商学院和职业经理人推崇的“管理者模式”形成对比。  \n",
    "创始人的独特能力\n",
    "创始人拥有职业经理人所不具备的独特洞察力和能力，主要体现在他们对公司愿景和文化的深刻理解。格雷厄姆建议，创始人应当利用这些优势，而不是被动接受传统的管理模式。“创始人模式”虽然仍处于探索阶段，但格雷厄姆希望，随着时间推移，它能够像传统的管理者模式一样被广泛理解，从而使创始人在公司扩张的过程中依然能够保持自身的独特管理方式。  \n",
    "创业公司扩张的挑战\n",
    "随着创业公司的成长，许多人认为它们必须过渡到更结构化的管理方式。然而，许多创始人发现，这种转变往往会导致公司失去最初的创新精神和敏捷性，而正是这些特质促成了创业公司的成功。  \n",
    "Airbnb联合创始人布莱恩·切斯基（Brian Chesky）分享了自己的经历：他曾被建议采用传统的管理模式来运营公司，但结果并不理想。最终，他找到了不同的管理方法，并受到史蒂夫·乔布斯（Steve Jobs）管理苹果公司的启发，从而取得了更好的效果。  \n",
    "史蒂夫·乔布斯的管理风格\n",
    "乔布斯在苹果的管理方式成为了切斯基“创始人模式”的灵感来源。其中一个显著做法是乔布斯每年都会召集苹果公司最重要的100名员工参加高层会议，而这些人并不一定处于公司的正式管理架构之中。这种非传统的方法使得苹果即便在扩张过程中仍保持类似创业公司的环境，促进了创新，并打破了层级之间的沟通壁垒。这一管理理念强调了创始人应当保持对公司运营的深度参与，而不是在公司扩张时将责任完全交给职业经理人，从而挑战了传统的管理观念。\"\"\""
   ]
  },
  {
   "cell_type": "code",
   "execution_count": 3,
   "metadata": {},
   "outputs": [],
   "source": [
    "from langchain_core.documents import Document\n",
    "\n",
    "\n",
    "docs_list = [\n",
    "    Document(\n",
    "        page_content=sample_content,\n",
    "        metadata={\n",
    "            \"Title\": \"保罗·格雷厄姆的创始人模式文章\",\n",
    "            \"Source\": \"https://www.perplexity.ai/page/paul-graham-s-founder-mode-ess-t9TCyvkqRiyMQJWsHr0fnQ\",\n",
    "        },\n",
    "    )\n",
    "]"
   ]
  },
  {
   "cell_type": "code",
   "execution_count": 4,
   "metadata": {},
   "outputs": [],
   "source": [
    "from langchain.text_splitter import RecursiveCharacterTextSplitter\n",
    "\n",
    "\n",
    "# Split\n",
    "text_splitter = RecursiveCharacterTextSplitter.from_tiktoken_encoder(\n",
    "    chunk_size=200, chunk_overlap=50\n",
    ")\n",
    "\n",
    "doc_splits = text_splitter.split_documents(docs_list)\n",
    "\n",
    "for i, doc in enumerate(doc_splits):\n",
    "    doc.metadata[\"chunk_id\"] = i + 1"
   ]
  },
  {
   "cell_type": "markdown",
   "metadata": {},
   "source": [
    "# 生成命题"
   ]
  },
  {
   "cell_type": "code",
   "execution_count": 5,
   "metadata": {},
   "outputs": [],
   "source": [
    "from typing import List\n",
    "from pydantic import BaseModel, Field\n",
    "\n",
    "\n",
    "# Data model\n",
    "class GeneratePropositions(BaseModel):\n",
    "    \"\"\"List of all the propositions in a given document\"\"\"\n",
    "\n",
    "    propositions: List[str] = Field(\n",
    "        description=\"List of propositions (factual, self-contained, and concise information)\"\n",
    "    )\n",
    "\n",
    "\n",
    "# LLM with function call\n",
    "structured_llm = llm.with_structured_output(GeneratePropositions)"
   ]
  },
  {
   "cell_type": "code",
   "execution_count": 6,
   "metadata": {},
   "outputs": [],
   "source": [
    "from langchain_core.prompts import ChatPromptTemplate, FewShotChatMessagePromptTemplate\n",
    "\n",
    "\n",
    "# Few shot prompting --- We can add more examples to make it good\n",
    "proposition_examples = [\n",
    "    {\n",
    "        \"document\": \"2003年，杨利伟乘坐神舟五号飞船成为第一个进入太空的中国人。\",\n",
    "        \"propositions\": \"['杨利伟是宇航员。', '杨利伟在2003年进入太空。', '杨利伟是第一个进入太空的中国人。', '杨利伟乘坐神舟五号进入太空。', '神舟五号在2003年发射。']\",\n",
    "    },\n",
    "]\n",
    "\n",
    "example_proposition_prompt = ChatPromptTemplate.from_messages(\n",
    "    [\n",
    "        (\"human\", \"{document}\"),\n",
    "        (\"ai\", \"{propositions}\"),\n",
    "    ]\n",
    ")\n",
    "\n",
    "few_shot_prompt = FewShotChatMessagePromptTemplate(\n",
    "    example_prompt=example_proposition_prompt,\n",
    "    examples=proposition_examples,\n",
    ")"
   ]
  },
  {
   "cell_type": "code",
   "execution_count": 7,
   "metadata": {},
   "outputs": [],
   "source": [
    "# Prompt\n",
    "system = \"\"\"请将以下文本分解为简单、自成体系的命题。确保每个命题都符合以下标准：\n",
    "\n",
    "1. 表达单一事实：每个命题应陈述一个具体事实或主张。\n",
    "2. 无需上下文即可理解：命题应自成体系，即无需额外上下文即可理解。\n",
    "3. 使用全名，而不是代词：避免使用代词或模棱两可的引用；使用完整的实体名称。\n",
    "4. 包括相关日期/限定词：如果适用，请包括必要的日期、时间和限定词，以使事实准确。\n",
    "5. 包含一个主谓关系：关注单个主语及其对应的动作或属性，没有连词或多个从句。\"\"\"\n",
    "\n",
    "prompt = ChatPromptTemplate.from_messages(\n",
    "    [\n",
    "        (\"system\", system),\n",
    "        few_shot_prompt,\n",
    "        (\"human\", \"{document}\"),\n",
    "    ]\n",
    ")\n",
    "\n",
    "proposition_generator = prompt | structured_llm"
   ]
  },
  {
   "cell_type": "code",
   "execution_count": 8,
   "metadata": {},
   "outputs": [],
   "source": [
    "propositions = []  # Store all the propositions from the document\n",
    "\n",
    "for i in range(len(doc_splits)):\n",
    "    response = proposition_generator.invoke({\"document\": doc_splits[i].page_content})\n",
    "\n",
    "    # Creating proposition\n",
    "    for proposition in response.propositions:\n",
    "        propositions.append(\n",
    "            Document(\n",
    "                page_content=proposition,\n",
    "                metadata={\n",
    "                    \"Title\": \"保罗·格雷厄姆的创始人模式文章\",\n",
    "                    \"Source\": \"https://www.perplexity.ai/page/paul-graham-s-founder-mode-ess-t9TCyvkqRiyMQJWsHr0fnQ\",\n",
    "                    \"chunk_id\": i + 1,\n",
    "                },\n",
    "            )\n",
    "        )"
   ]
  },
  {
   "cell_type": "markdown",
   "metadata": {},
   "source": [
    "# 评估命题"
   ]
  },
  {
   "cell_type": "code",
   "execution_count": 9,
   "metadata": {},
   "outputs": [],
   "source": [
    "# Data model\n",
    "class GradePropositions(BaseModel):\n",
    "    \"\"\"Grade a given proposition on accuracy, clarity, completeness, and conciseness\"\"\"\n",
    "\n",
    "    accuracy: int = Field(\n",
    "        description=\"Rate from 1-10 based on how well the proposition reflects the original text.\"\n",
    "    )\n",
    "\n",
    "    clarity: int = Field(\n",
    "        description=\"Rate from 1-10 based on how easy it is to understand the proposition without additional context.\"\n",
    "    )\n",
    "\n",
    "    completeness: int = Field(\n",
    "        description=\"Rate from 1-10 based on whether the proposition includes necessary details (e.g., dates, qualifiers).\"\n",
    "    )\n",
    "\n",
    "    conciseness: int = Field(\n",
    "        description=\"Rate from 1-10 based on whether the proposition is concise without losing important information.\"\n",
    "    )\n",
    "\n",
    "\n",
    "# LLM with function call\n",
    "structured_llm = llm.with_structured_output(GradePropositions)"
   ]
  },
  {
   "cell_type": "code",
   "execution_count": 10,
   "metadata": {},
   "outputs": [],
   "source": [
    "evaluation_prompt_template = \"\"\"\n",
    "请根据以下标准评估以下命题：\n",
    "- **Accuracy**：根据命题反映原文的程度，从 1 到 10 进行评分。\n",
    "- **Clarity**：根据命题在没有额外背景的情况下理解的难易程度，从 1 到 10 进行评分。\n",
    "- **Completeness**：根据命题是否包含必要的细节（例如日期、限定词）从 1 到 10 进行评分。\n",
    "- **Conciseness**：根据命题是否简洁而不丢失重要信息，从 1 到 10 进行评分。\n",
    "\n",
    "示例:\n",
    "Docs: 2003年，杨利伟乘坐神舟五号飞船成为第一个进入太空的中国人。\n",
    "\n",
    "Propositons_1: 杨利伟是宇航员。\n",
    "Evaluation_1: \"accuracy\": 10, \"clarity\": 10, \"completeness\": 10, \"conciseness\": 10\n",
    "\n",
    "Propositons_2: 杨利伟在2003年进入太空。\n",
    "Evaluation_3: \"accuracy\": 10, \"clarity\": 10, \"completeness\": 10, \"conciseness\": 10\n",
    "\n",
    "Propositons_3: 杨利伟是第一个进入太空的中国人。\n",
    "Evaluation_3: \"accuracy\": 10, \"clarity\": 10, \"completeness\": 10, \"conciseness\": 10\n",
    "\n",
    "Propositons_4: 杨利伟乘坐神舟五号进入太空。\n",
    "Evaluation_4: \"accuracy\": 10, \"clarity\": 10, \"completeness\": 10, \"conciseness\": 10\n",
    "\n",
    "Propositons_5: 神舟五号在2003年发射。\n",
    "Evaluation_5: \"accuracy\": 10, \"clarity\": 10, \"completeness\": 10, \"conciseness\": 10\n",
    "\n",
    "格式:\n",
    "命题: \"{proposition}\"\n",
    "原始文本: \"{original_text}\"\n",
    "\"\"\"\n",
    "prompt = ChatPromptTemplate.from_messages(\n",
    "    [\n",
    "        (\"system\", evaluation_prompt_template),\n",
    "        (\"human\", \"{proposition}, {original_text}\"),\n",
    "    ]\n",
    ")\n",
    "\n",
    "proposition_evaluator = prompt | structured_llm"
   ]
  },
  {
   "cell_type": "code",
   "execution_count": 11,
   "metadata": {},
   "outputs": [],
   "source": [
    "# Define evaluation categories and thresholds\n",
    "evaluation_categories = [\"accuracy\", \"clarity\", \"completeness\", \"conciseness\"]\n",
    "thresholds = {\"accuracy\": 7, \"clarity\": 7, \"completeness\": 7, \"conciseness\": 7}\n",
    "\n",
    "\n",
    "# Function to evaluate proposition\n",
    "def evaluate_proposition(proposition, original_text):\n",
    "    response = proposition_evaluator.invoke(\n",
    "        {\"proposition\": proposition, \"original_text\": original_text}\n",
    "    )\n",
    "\n",
    "    # Parse the response to extract scores\n",
    "    scores = {\n",
    "        \"accuracy\": response.accuracy,\n",
    "        \"clarity\": response.clarity,\n",
    "        \"completeness\": response.completeness,\n",
    "        \"conciseness\": response.conciseness,\n",
    "    }  # Implement function to extract scores from the LLM response\n",
    "    return scores\n",
    "\n",
    "\n",
    "# Check if the proposition passes the quality check\n",
    "def passes_quality_check(scores):\n",
    "    for category, score in scores.items():\n",
    "        if score < thresholds[category]:\n",
    "            return False\n",
    "    return True"
   ]
  },
  {
   "cell_type": "code",
   "execution_count": 12,
   "metadata": {},
   "outputs": [
    {
     "name": "stdout",
     "output_type": "stream",
     "text": [
      "2) Propostion: 文章《创始人模式》挑战了关于创业公司扩张的传统智慧。 \n",
      " Scores: {'accuracy': 8, 'clarity': 10, 'completeness': 6, 'conciseness': 10}\n",
      "Fail\n",
      "9) Propostion: 传统建议推荐成长型公司招聘优秀人才并给予他们自主权。 \n",
      " Scores: {'accuracy': 5, 'clarity': 10, 'completeness': 5, 'conciseness': 10}\n",
      "Fail\n",
      "10) Propostion: 传统建议在创业公司环境下往往行不通。 \n",
      " Scores: {'accuracy': 8, 'clarity': 9, 'completeness': 6, 'conciseness': 10}\n",
      "Fail\n",
      "24) Propostion: 创始人拥有独特洞察力和能力。 \n",
      " Scores: {'accuracy': 8, 'clarity': 9, 'completeness': 6, 'conciseness': 9}\n",
      "Fail\n",
      "36) Propostion: 创业公司面临资金管理的挑战。 \n",
      " Scores: {'accuracy': 7, 'clarity': 10, 'completeness': 6, 'conciseness': 10}\n",
      "Fail\n",
      "37) Propostion: 创业公司在招聘合适人才方面遇到困难。 \n",
      " Scores: {'accuracy': 7, 'clarity': 9, 'completeness': 6, 'conciseness': 9}\n",
      "Fail\n",
      "53) Propostion: 史蒂夫·乔布斯强调创新在他的管理实践中。 \n",
      " Scores: {'accuracy': 7, 'clarity': 8, 'completeness': 6, 'conciseness': 9}\n",
      "Fail\n",
      "67) Propostion: 一管理理念挑战了传统的管理观念。 \n",
      " Scores: {'accuracy': 8, 'clarity': 9, 'completeness': 4, 'conciseness': 10}\n",
      "Fail\n"
     ]
    }
   ],
   "source": [
    "evaluated_propositions = []  # Store all the propositions from the document\n",
    "\n",
    "# Loop through generated propositions and evaluate them\n",
    "for idx, proposition in enumerate(propositions):\n",
    "    scores = evaluate_proposition(\n",
    "        proposition.page_content,\n",
    "        doc_splits[proposition.metadata[\"chunk_id\"] - 1].page_content,\n",
    "    )\n",
    "    if passes_quality_check(scores):\n",
    "        # Proposition passes quality check, keep it\n",
    "        evaluated_propositions.append(proposition)\n",
    "    else:\n",
    "        # Proposition fails, discard or flag for further review\n",
    "        print(f\"{idx + 1}) Propostion: {proposition.page_content} \\n Scores: {scores}\")\n",
    "        print(\"Fail\")"
   ]
  },
  {
   "cell_type": "markdown",
   "metadata": {},
   "source": [
    "# 生成命题嵌入"
   ]
  },
  {
   "cell_type": "code",
   "execution_count": 13,
   "metadata": {},
   "outputs": [],
   "source": [
    "from langchain_community.vectorstores import FAISS\n",
    "\n",
    "\n",
    "vectorstore_propositions = FAISS.from_documents(evaluated_propositions, embedding_model)\n",
    "retriever_propositions = vectorstore_propositions.as_retriever(\n",
    "    search_type=\"similarity\",\n",
    "    search_kwargs={\"k\": 4},\n",
    ")"
   ]
  },
  {
   "cell_type": "code",
   "execution_count": 14,
   "metadata": {},
   "outputs": [
    {
     "name": "stdout",
     "output_type": "stream",
     "text": [
      "1) Content: 布莱恩·切斯基是Airbnb的联合创始人。 --- Chunk_id: 10\n",
      "2) Content: 乔布斯的管理方式成为了切斯基'创始人模式'的灵感来源。 --- Chunk_id: 13\n",
      "3) Content: 布莱恩·切斯基找到了不同于传统管理的方法来运营公司。 --- Chunk_id: 10\n",
      "4) Content: 史蒂夫·乔布斯影响了布莱恩·切斯基对于公司管理的看法。 --- Chunk_id: 10\n"
     ]
    }
   ],
   "source": [
    "test_query_1 = \"谁的管理方式启发了 Airbnb 的布莱恩·切斯基“创始人模式”？\"\n",
    "\n",
    "res_proposition = retriever_propositions.invoke(test_query_1)\n",
    "\n",
    "for i, r in enumerate(res_proposition):\n",
    "    print(f\"{i + 1}) Content: {r.page_content} --- Chunk_id: {r.metadata['chunk_id']}\")"
   ]
  },
  {
   "cell_type": "code",
   "execution_count": 15,
   "metadata": {},
   "outputs": [
    {
     "name": "stdout",
     "output_type": "stream",
     "text": [
      "1) Content: 布莱恩·切斯基是Airbnb的联合创始人。 --- Chunk_id: 10\n",
      "2) Content: 存在一种被称为'创始人模式'的管理方式。 --- Chunk_id: 4\n",
      "3) Content: '创始人模式'正处于探索阶段。 --- Chunk_id: 6\n",
      "4) Content: 格雷厄姆期望随着时间推移\"创始人模式\"变得像传统管理模式一样普及。 --- Chunk_id: 7\n"
     ]
    }
   ],
   "source": [
    "test_query_2 = \"Airbnb的联合创始人是谁？\"\n",
    "\n",
    "res_proposition = retriever_propositions.invoke(test_query_2)\n",
    "\n",
    "for i, r in enumerate(res_proposition):\n",
    "    print(f\"{i + 1}) Content: {r.page_content} --- Chunk_id: {r.metadata['chunk_id']}\")"
   ]
  },
  {
   "cell_type": "code",
   "execution_count": 20,
   "metadata": {},
   "outputs": [
    {
     "name": "stdout",
     "output_type": "stream",
     "text": [
      "1) Content: 存在一种被称为'创始人模式'的管理方式。 --- Chunk_id: 4\n",
      "2) Content: '创始人模式'是一种新兴的管理范式。 --- Chunk_id: 4\n",
      "3) Content: 保罗·格雷厄姆在2024年9月发表了一篇文章《创始人模式》。 --- Chunk_id: 1\n",
      "4) Content: '创始人模式'正处于探索阶段。 --- Chunk_id: 6\n"
     ]
    }
   ],
   "source": [
    "test_query_3 = \"《创始人模式》文章是什么时候发表的？\"\n",
    "\n",
    "res_proposition = retriever_propositions.invoke(test_query_3)\n",
    "\n",
    "for i, r in enumerate(res_proposition):\n",
    "    print(f\"{i + 1}) Content: {r.page_content} --- Chunk_id: {r.metadata['chunk_id']}\")"
   ]
  },
  {
   "cell_type": "code",
   "execution_count": null,
   "metadata": {},
   "outputs": [],
   "source": []
  }
 ],
 "metadata": {
  "kernelspec": {
   "display_name": "rag",
   "language": "python",
   "name": "python3"
  },
  "language_info": {
   "codemirror_mode": {
    "name": "ipython",
    "version": 3
   },
   "file_extension": ".py",
   "mimetype": "text/x-python",
   "name": "python",
   "nbconvert_exporter": "python",
   "pygments_lexer": "ipython3",
   "version": "3.12.9"
  }
 },
 "nbformat": 4,
 "nbformat_minor": 2
}
